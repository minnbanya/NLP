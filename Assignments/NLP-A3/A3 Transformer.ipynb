{
 "cells": [
  {
   "cell_type": "markdown",
   "metadata": {},
   "source": [
    "# 0. Importing Libraries"
   ]
  },
  {
   "cell_type": "code",
   "execution_count": 1,
   "metadata": {},
   "outputs": [
    {
     "name": "stderr",
     "output_type": "stream",
     "text": [
      "C:\\Users\\minnb\\AppData\\Local\\Packages\\PythonSoftwareFoundation.Python.3.11_qbz5n2kfra8p0\\LocalCache\\local-packages\\Python311\\site-packages\\tqdm\\auto.py:21: TqdmWarning: IProgress not found. Please update jupyter and ipywidgets. See https://ipywidgets.readthedocs.io/en/stable/user_install.html\n",
      "  from .autonotebook import tqdm as notebook_tqdm\n"
     ]
    },
    {
     "name": "stdout",
     "output_type": "stream",
     "text": [
      "cuda\n"
     ]
    }
   ],
   "source": [
    "import torch, torchdata, torchtext\n",
    "from torch import nn\n",
    "import torch.nn.functional as F\n",
    "\n",
    "import random, math, time\n",
    "import datasets\n",
    "import matplotlib.pyplot as plt\n",
    "import torch.optim as optim\n",
    "\n",
    "# Set device as GPU if available, else set to CPU\n",
    "device = torch.device('cuda' if torch.cuda.is_available() else 'cpu')\n",
    "# device = 'cpu'\n",
    "print(device)\n",
    "\n",
    "#make our work comparable if restarted the kernel\n",
    "SEED = 1234\n",
    "torch.manual_seed(SEED)\n",
    "torch.backends.cudnn.deterministic = True"
   ]
  },
  {
   "cell_type": "markdown",
   "metadata": {},
   "source": [
    "# 1. ETL: Loading dataset"
   ]
  },
  {
   "cell_type": "code",
   "execution_count": 2,
   "metadata": {},
   "outputs": [],
   "source": [
    "import datasets\n",
    "\n",
    "# Processed TALPCo dataset\n",
    "corpus = datasets.load_dataset('minnbanya/en-my-nlp-a3')"
   ]
  },
  {
   "cell_type": "code",
   "execution_count": 3,
   "metadata": {},
   "outputs": [
    {
     "data": {
      "text/plain": [
       "DatasetDict({\n",
       "    train: Dataset({\n",
       "        features: ['en', 'my'],\n",
       "        num_rows: 1093\n",
       "    })\n",
       "    validation: Dataset({\n",
       "        features: ['en', 'my'],\n",
       "        num_rows: 137\n",
       "    })\n",
       "    test: Dataset({\n",
       "        features: ['en', 'my'],\n",
       "        num_rows: 137\n",
       "    })\n",
       "})"
      ]
     },
     "execution_count": 3,
     "metadata": {},
     "output_type": "execute_result"
    }
   ],
   "source": [
    "corpus"
   ]
  },
  {
   "cell_type": "markdown",
   "metadata": {},
   "source": [
    "## Extract language pair"
   ]
  },
  {
   "cell_type": "code",
   "execution_count": 4,
   "metadata": {},
   "outputs": [],
   "source": [
    "SRC_LANGUAGE = 'en' # English\n",
    "TRG_LANGUAGE = 'my' # Myanmar"
   ]
  },
  {
   "cell_type": "code",
   "execution_count": 5,
   "metadata": {},
   "outputs": [
    {
     "data": {
      "text/plain": [
       "'I drank a little bit of alcohol yesterday'"
      ]
     },
     "execution_count": 5,
     "metadata": {},
     "output_type": "execute_result"
    }
   ],
   "source": [
    "corpus['train'][0][SRC_LANGUAGE]"
   ]
  },
  {
   "cell_type": "code",
   "execution_count": 6,
   "metadata": {},
   "outputs": [
    {
     "data": {
      "text/plain": [
       "'မနေ့က အရက် နည်းနည်း သောက်ခဲ့တယ်။'"
      ]
     },
     "execution_count": 6,
     "metadata": {},
     "output_type": "execute_result"
    }
   ],
   "source": [
    "corpus['train'][0][TRG_LANGUAGE]"
   ]
  },
  {
   "cell_type": "markdown",
   "metadata": {},
   "source": [
    "# 2. Preprocessing"
   ]
  },
  {
   "cell_type": "markdown",
   "metadata": {},
   "source": [
    "## Tokenization, Numericalization"
   ]
  },
  {
   "cell_type": "code",
   "execution_count": 7,
   "metadata": {},
   "outputs": [],
   "source": [
    "# Place-holders\n",
    "token_transform = {}\n",
    "vocab_transform = {}"
   ]
  },
  {
   "cell_type": "markdown",
   "metadata": {},
   "source": [
    "## Myanmar segmentation tool (myWord)"
   ]
  },
  {
   "cell_type": "code",
   "execution_count": 8,
   "metadata": {},
   "outputs": [],
   "source": [
    "import math\n",
    "import functools\n",
    "import sys\n",
    "import pickle\n",
    "\n",
    "sys.setrecursionlimit(10**6)\n",
    "\n",
    "# Myanmar syllable combination dictionaries (pretrained)\n",
    "uni_dict_bin = './app/data/unigram-word.bin'\n",
    "bi_dict_bin = './app/data/bigram-word.bin'                \n",
    "\n",
    "# Read binary files\n",
    "def read_dict (fileDICT):\n",
    "    try:\n",
    "        with open(fileDICT, 'rb') as input_file:\n",
    "            dictionary = pickle.load(input_file)\n",
    "            input_file.close()\n",
    "    except FileNotFoundError:\n",
    "        print('Dictionary file', fileDICT, ' not found!')\n",
    "    return dictionary\n",
    "\n",
    "class ProbDist(dict):\n",
    "    ### Probability distribution estimated from unigram/bigram data\n",
    "    def __init__(self, datafile=None, unigram=True, N=102490):\n",
    "        data = read_dict(datafile)\n",
    "        for k, c in data.items():\n",
    "            self[k] = self.get(k, 0) + c\n",
    "\n",
    "        if unigram:\n",
    "            self.unknownprob = lambda k, N: 10/(N*10**len(k))    # avoid unknown long word\n",
    "        else:\n",
    "            self.unknownprob = lambda k, N: 1/N\n",
    "\n",
    "        self.N = N\n",
    "\n",
    "    def __call__(self, key):\n",
    "        if key in self:\n",
    "            return self[key]/self.N\n",
    "        else:\n",
    "            return self.unknownprob(key, self.N)\n",
    "        \n",
    "P_unigram = ProbDist(uni_dict_bin, True)\n",
    "P_bigram = ProbDist(bi_dict_bin, False)\n",
    "\n",
    "def conditionalProb(word_curr, word_prev):\n",
    "    ### Conditional probability of current word given the previous word.\n",
    "    try:\n",
    "        return P_bigram[word_prev + ' ' + word_curr]/P_unigram[word_prev]\n",
    "    except KeyError:\n",
    "        return P_unigram(word_curr)\n",
    "\n",
    "@functools.lru_cache(maxsize=2**10)\n",
    "#maxlen=20\n",
    "def viterbi(text, prev='<S>', maxlen=20):\n",
    "    if not text:\n",
    "        return 0.0, []\n",
    "    \n",
    "    textlen = min(len(text), maxlen)\n",
    "    splits = [(text[:i + 1], text[i + 1:]) for i in range(textlen)]\n",
    "\n",
    "    candidates = []\n",
    "\n",
    "    for first_word, remain_word in splits:\n",
    "\n",
    "        first_prob = math.log10(conditionalProb(first_word, prev))\n",
    "\n",
    "        remain_prob, remain_word = viterbi(remain_word, first_word)\n",
    "\n",
    "        candidates.append((first_prob + remain_prob, [first_word] + remain_word))\n",
    "\n",
    "    return max(candidates)"
   ]
  },
  {
   "cell_type": "code",
   "execution_count": 9,
   "metadata": {},
   "outputs": [],
   "source": [
    "def my_tokenizer(text): # Myanmar tokenizer\n",
    "    if text is None: # Handle null value as empty string\n",
    "        return []\n",
    "    wordDelimiter= '|' # assign local variable delimiter\n",
    "\n",
    "    input = text[:]\n",
    "    listString = viterbi(input.replace(\" \", \"\").strip()) # remove space between words and pass to viterbi()\n",
    "    wordStr = wordDelimiter.join(listString[1])\n",
    "    wordClean1=wordStr.strip()\n",
    "    wordClean2=wordClean1.strip(wordDelimiter)    \n",
    "    wordClean2 = wordClean2.split('|')                \n",
    "    return wordClean2"
   ]
  },
  {
   "cell_type": "markdown",
   "metadata": {},
   "source": [
    "## Tokenizers"
   ]
  },
  {
   "cell_type": "code",
   "execution_count": 10,
   "metadata": {},
   "outputs": [],
   "source": [
    "from torchtext.data.utils import get_tokenizer\n",
    "token_transform[SRC_LANGUAGE] = get_tokenizer('spacy', language='en_core_web_sm')\n",
    "token_transform[TRG_LANGUAGE] = my_tokenizer"
   ]
  },
  {
   "cell_type": "markdown",
   "metadata": {},
   "source": [
    "## Special token indices"
   ]
  },
  {
   "cell_type": "code",
   "execution_count": 11,
   "metadata": {},
   "outputs": [],
   "source": [
    "# Define special symbols and indices\n",
    "UNK_IDX, PAD_IDX, SOS_IDX, EOS_IDX = 0, 1, 2, 3\n",
    "# Make sure the tokens are in order of their indices to properly insert them in vocab\n",
    "special_symbols = ['<unk>', '<pad>', '<sos>', '<eos>']"
   ]
  },
  {
   "cell_type": "markdown",
   "metadata": {},
   "source": [
    "## Build vocab"
   ]
  },
  {
   "cell_type": "code",
   "execution_count": 12,
   "metadata": {},
   "outputs": [],
   "source": [
    "# helper function to yield list of tokens\n",
    "# here data can be `train` or `val` or `test`\n",
    "def yield_tokens(data, language):\n",
    "    if data is None: # handle null value\n",
    "        return []\n",
    "    language_index = {SRC_LANGUAGE: 0, TRG_LANGUAGE: 1}\n",
    "\n",
    "    for data_sample in data:\n",
    "        if isinstance(data_sample, list): # handle list\n",
    "            yield token_transform[language](data_sample[language_index[language]])\n",
    "        elif isinstance(data_sample, dict):\n",
    "            yield token_transform[language](data_sample[language])"
   ]
  },
  {
   "cell_type": "code",
   "execution_count": 13,
   "metadata": {},
   "outputs": [],
   "source": [
    "from torchtext.vocab import build_vocab_from_iterator\n",
    "\n",
    "for ln in [SRC_LANGUAGE, TRG_LANGUAGE]:\n",
    "    # Create torchtext's Vocab object \n",
    "    vocab_transform[ln] = build_vocab_from_iterator(yield_tokens(corpus['train'], ln), \n",
    "                                                    min_freq=2,   #if not, everything will be treated as UNK\n",
    "                                                    specials=special_symbols,\n",
    "                                                    special_first=True) #indicates whether to insert symbols at the beginning or at the end                                            \n",
    "# Set UNK_IDX as the default index. This index is returned when the token is not found. \n",
    "# If not set, it throws RuntimeError when the queried token is not found in the Vocabulary. \n",
    "for ln in [SRC_LANGUAGE, TRG_LANGUAGE]:\n",
    "    vocab_transform[ln].set_default_index(UNK_IDX)"
   ]
  },
  {
   "cell_type": "code",
   "execution_count": 14,
   "metadata": {},
   "outputs": [],
   "source": [
    "import pickle\n",
    "\n",
    "pickle.dump(vocab_transform, open('./app/data/vocab.pkl', 'wb'))"
   ]
  },
  {
   "cell_type": "code",
   "execution_count": 15,
   "metadata": {},
   "outputs": [],
   "source": [
    "vocab_transform = pickle.load(open('./app/data/vocab.pkl', 'rb'))"
   ]
  },
  {
   "cell_type": "markdown",
   "metadata": {},
   "source": [
    "## Batching"
   ]
  },
  {
   "cell_type": "code",
   "execution_count": 16,
   "metadata": {},
   "outputs": [],
   "source": [
    "from torch.nn.utils.rnn import pad_sequence\n",
    "from torch.utils.data import DataLoader\n",
    "\n",
    "BATCH_SIZE = 16 # GPU memory limitation\n",
    "\n",
    "# helper function to club together sequential operations\n",
    "def sequential_transforms(*transforms):\n",
    "    def func(txt_input):\n",
    "        if txt_input is None:\n",
    "            return []\n",
    "        for transform in transforms:\n",
    "            txt_input = transform(txt_input)\n",
    "        return txt_input\n",
    "    return func\n",
    "\n",
    "# function to add BOS/EOS and create tensor for input sequence indices\n",
    "def tensor_transform(token_ids):\n",
    "    return torch.cat((torch.tensor([SOS_IDX]), \n",
    "                      torch.tensor(token_ids), \n",
    "                      torch.tensor([EOS_IDX])))\n",
    "\n",
    "# src and trg language text transforms to convert raw strings into tensors indices\n",
    "text_transform = {}\n",
    "for ln in [SRC_LANGUAGE, TRG_LANGUAGE]:\n",
    "    text_transform[ln] = sequential_transforms(token_transform[ln], #Tokenization\n",
    "                                               vocab_transform[ln], #Numericalization\n",
    "                                               tensor_transform) # Add BOS/EOS and create tensor\n",
    "\n",
    "def collate_batch(batch):\n",
    "    src_batch, src_len_batch, trg_batch = [], [], []\n",
    "\n",
    "    for lang_data in batch:\n",
    "        # Assuming that each language is a key in the dictionary\n",
    "        for lang, tokens in lang_data.items():\n",
    "            # Use an empty tensor as a default value if tokens is None or an empty list\n",
    "            processed_text = text_transform[lang](tokens) if tokens else torch.empty(0, dtype=torch.int64)\n",
    "            \n",
    "            # For source language, append to src_batch and record length\n",
    "            if lang == SRC_LANGUAGE:\n",
    "                src_batch.append(processed_text)\n",
    "                src_len_batch.append(processed_text.size(0))\n",
    "            \n",
    "            # For target language, append to trg_batch\n",
    "            elif lang == TRG_LANGUAGE:\n",
    "                trg_batch.append(processed_text)\n",
    "\n",
    "    # Pad sequences\n",
    "    src_batch = pad_sequence(src_batch, padding_value=PAD_IDX, batch_first = True)\n",
    "\n",
    "    # Set the length of empty sequences to the maximum length\n",
    "    max_len = max(src_batch.size(0), max(src_len_batch))\n",
    "    src_len_batch = [length if length > 0 else max_len for length in src_len_batch]\n",
    "\n",
    "\n",
    "    \n",
    "    trg_batch = pad_sequence(trg_batch, padding_value=PAD_IDX, batch_first = True)\n",
    "\n",
    "    return src_batch, torch.tensor(src_len_batch, dtype=torch.int64), trg_batch"
   ]
  },
  {
   "cell_type": "code",
   "execution_count": 17,
   "metadata": {},
   "outputs": [],
   "source": [
    "batch_size = BATCH_SIZE\n",
    "\n",
    "train_loader = DataLoader(corpus['train'], batch_size=batch_size, shuffle=True,  collate_fn=collate_batch)\n",
    "valid_loader = DataLoader(corpus['validation'],   batch_size=batch_size, shuffle=False, collate_fn=collate_batch)\n",
    "test_loader  = DataLoader(corpus['test'],  batch_size=batch_size, shuffle=False, collate_fn=collate_batch)\n",
    "\n",
    "# train_loader = DataLoader(corpus_test, batch_size=batch_size, shuffle=True,  collate_fn=collate_batch)"
   ]
  },
  {
   "cell_type": "code",
   "execution_count": 18,
   "metadata": {},
   "outputs": [],
   "source": [
    "for en, _, my in train_loader:\n",
    "    break"
   ]
  },
  {
   "cell_type": "code",
   "execution_count": 19,
   "metadata": {},
   "outputs": [
    {
     "name": "stdout",
     "output_type": "stream",
     "text": [
      "English shape:  torch.Size([16, 15])\n",
      "Myanmar shape:  torch.Size([16, 17])\n"
     ]
    }
   ],
   "source": [
    "print(\"English shape: \", en.shape)  # (seq len, batch_size)\n",
    "print(\"Myanmar shape: \", my.shape)   # (seq len, batch_size)"
   ]
  },
  {
   "cell_type": "markdown",
   "metadata": {},
   "source": [
    "# 3. Model"
   ]
  },
  {
   "cell_type": "markdown",
   "metadata": {},
   "source": [
    "## Encoder"
   ]
  },
  {
   "cell_type": "markdown",
   "metadata": {},
   "source": [
    "### Encoder layer"
   ]
  },
  {
   "cell_type": "code",
   "execution_count": 20,
   "metadata": {},
   "outputs": [],
   "source": [
    "class EncoderLayer(nn.Module):\n",
    "    def __init__(self, hid_dim, n_heads, pf_dim, dropout, device, mech):\n",
    "        super().__init__()\n",
    "        self.self_attn_layer_norm = nn.LayerNorm(hid_dim)\n",
    "        self.ff_layer_norm        = nn.LayerNorm(hid_dim)\n",
    "        self.self_attention       = MultiHeadAttentionLayer(hid_dim, n_heads, dropout, device, mech)\n",
    "        self.feedforward          = PositionwiseFeedforwardLayer(hid_dim, pf_dim, dropout)\n",
    "        self.dropout              = nn.Dropout(dropout)\n",
    "        \n",
    "    def forward(self, src, src_mask):\n",
    "        #src = [batch size, src len, hid dim]\n",
    "        #src_mask = [batch size, 1, 1, src len]   #if the token is padding, it will be 1, otherwise 0\n",
    "        _src, _ = self.self_attention(src, src, src, src_mask)\n",
    "        src     = self.self_attn_layer_norm(src + self.dropout(_src))\n",
    "        #src: [batch_size, src len, hid dim]\n",
    "        \n",
    "        _src    = self.feedforward(src)\n",
    "        src     = self.ff_layer_norm(src + self.dropout(_src))\n",
    "        #src: [batch_size, src len, hid dim]\n",
    "        \n",
    "        return src"
   ]
  },
  {
   "cell_type": "markdown",
   "metadata": {},
   "source": [
    "### Encoder"
   ]
  },
  {
   "cell_type": "code",
   "execution_count": 21,
   "metadata": {},
   "outputs": [],
   "source": [
    "class Encoder(nn.Module):\n",
    "    def __init__(self, input_dim, hid_dim, n_layers, n_heads, pf_dim, dropout, device, \n",
    "                 mech, max_length = 1000):\n",
    "        super().__init__()\n",
    "        self.device = device\n",
    "        self.tok_embedding = nn.Embedding(input_dim, hid_dim)\n",
    "        self.pos_embedding = nn.Embedding(max_length, hid_dim)\n",
    "        self.layers        = nn.ModuleList([EncoderLayer(hid_dim, n_heads, pf_dim, dropout, device, mech)\n",
    "                                           for _ in range(n_layers)])\n",
    "        self.dropout       = nn.Dropout(dropout)\n",
    "        self.scale         = torch.sqrt(torch.FloatTensor([hid_dim])).to(self.device)\n",
    "        \n",
    "    def forward(self, src, src_mask):\n",
    "        \n",
    "        #src = [batch size, src len]\n",
    "        #src_mask = [batch size, 1, 1, src len]\n",
    "        \n",
    "        batch_size = src.shape[0]\n",
    "        src_len    = src.shape[1]\n",
    "        \n",
    "        pos        = torch.arange(0, src_len).unsqueeze(0).repeat(batch_size, 1).to(self.device)\n",
    "        #pos: [batch_size, src_len]\n",
    "        \n",
    "        src        = self.dropout((self.tok_embedding(src) * self.scale) + self.pos_embedding(pos))\n",
    "        #src: [batch_size, src_len, hid_dim]\n",
    "        \n",
    "        for layer in self.layers:\n",
    "            src = layer(src, src_mask)\n",
    "        #src: [batch_size, src_len, hid_dim]\n",
    "        return src"
   ]
  },
  {
   "cell_type": "markdown",
   "metadata": {},
   "source": [
    "## Multihead Attention layer"
   ]
  },
  {
   "cell_type": "code",
   "execution_count": 22,
   "metadata": {},
   "outputs": [],
   "source": [
    "class MultiHeadAttentionLayer(nn.Module):\n",
    "    def __init__(self, hid_dim, n_heads, dropout, device, mech):\n",
    "        super().__init__()\n",
    "        assert hid_dim % n_heads == 0\n",
    "        self.hid_dim  = hid_dim\n",
    "        self.n_heads  = n_heads\n",
    "        self.head_dim = hid_dim // n_heads\n",
    "        self.mech = mech # attention mechanism selector\n",
    "        \n",
    "        self.fc_q     = nn.Linear(hid_dim, hid_dim)\n",
    "        self.fc_k     = nn.Linear(hid_dim, hid_dim)\n",
    "        self.fc_v     = nn.Linear(hid_dim, hid_dim)\n",
    "\n",
    "        # for additive attention\n",
    "        self.v        = nn.Linear(self.head_dim, 1)                 \n",
    "        self.W        = nn.Linear(self.head_dim, self.head_dim) # reused in multiplicative attention\n",
    "        self.U        = nn.Linear(self.head_dim, self.head_dim)\n",
    "        \n",
    "        self.fc_o     = nn.Linear(hid_dim, hid_dim)\n",
    "        \n",
    "        self.dropout  = nn.Dropout(dropout)\n",
    "        \n",
    "        self.scale    = torch.sqrt(torch.FloatTensor([self.head_dim])).to(device)\n",
    "                \n",
    "    def forward(self, query, key, value, mask = None):\n",
    "        #src, src, src, src_mask\n",
    "        #query = [batch size, query len, hid dim]\n",
    "        #key = [batch size, key len, hid dim]\n",
    "        #value = [batch size, value len, hid dim]\n",
    "        \n",
    "        \n",
    "        batch_size = query.shape[0]\n",
    "        query_len = query.shape[1]\n",
    "        key_len = key.shape[1]\n",
    "        \n",
    "        Q = self.fc_q(query)\n",
    "        K = self.fc_k(key)\n",
    "        V = self.fc_v(value)\n",
    "        #Q=K=V: [batch_size, src len, hid_dim] when self attention\n",
    "        #Q = [batch_size, query len, hid_dim], K=V = [batch_size, key len, hid_dim]\n",
    "\n",
    "        Q = Q.view(batch_size, -1, self.n_heads, self.head_dim).permute(0, 2, 1, 3)\n",
    "        K = K.view(batch_size, -1, self.n_heads, self.head_dim).permute(0, 2, 1, 3)\n",
    "        V = V.view(batch_size, -1, self.n_heads, self.head_dim).permute(0, 2, 1, 3)\n",
    "        #Q = [batch_size, n heads, query len, head_dim]\n",
    "        #K=V = [batch_size, n heads, key len, head_dim]\n",
    "\n",
    "        if self.mech == 'gen': # general attention\n",
    "            # e = Q @ K\n",
    "            energy = torch.matmul(Q, K.permute(0, 1, 3, 2)) / self.scale\n",
    "            #Q = [batch_size, n heads, query len, head_dim] @ K = [batch_size, n heads, head_dim, key len]\n",
    "            #energy = [batch_size, n heads, query len, key len]\n",
    "\n",
    "        elif self.mech == 'mul': # multiplicative attention\n",
    "            # e = Q @ W(K)\n",
    "            energy = torch.matmul(Q, self.W(K).permute(0, 1, 3, 2)) / self.scale\n",
    "            #Q = [batch_size, n heads, query len, head_dim] @ W(K = [batch_size, n heads, head_dim, key len])\n",
    "            #energy = [batch_size, n heads, query len, key len]\n",
    "        \n",
    "        elif self.mech == 'add': # additive attention\n",
    "            # add extra dimensions to allow addition\n",
    "            Q = Q.view(batch_size, self.n_heads, query_len, 1, self.head_dim)\n",
    "            K = K.view(batch_size, self.n_heads, 1, key_len, self.head_dim)\n",
    "            # Q = [batch_size, n heads, query len, 1, head_dim]\n",
    "            # K = [batch_size, n heads, 1, key len, head_dim]\n",
    "            \n",
    "            q = self.W(Q)\n",
    "            k = self.U(K)\n",
    "\n",
    "            # e = v ( tanh( W(Q) + U(K) ) )\n",
    "            energy = self.v(torch.tanh(q + k)) / self.scale\n",
    "            #energy = [batch_size, n heads, query len, key len, 1]\n",
    "\n",
    "            energy = energy.squeeze(4)\n",
    "            #energy = [batch_size, n heads, query len, key len]\n",
    "        \n",
    "        #for making attention to padding to 0\n",
    "        if mask is not None:\n",
    "            energy = energy.masked_fill(mask == 0, -1e10)\n",
    "        \n",
    "        attention = torch.softmax(energy, dim = -1)\n",
    "        #attention = [batch_size, n heads, query len, key len]\n",
    "        \n",
    "        x = torch.matmul(self.dropout(attention), V)\n",
    "        #[batch_size, n heads, query len, key len] @ [batch_size, n heads, value len, head_dim]\n",
    "        #x = [batch_size, n heads, query len, head dim]\n",
    "        \n",
    "        x = x.permute(0, 2, 1, 3).contiguous()  #we can perform .view\n",
    "        #x = [batch_size, query len, n heads, head dim]\n",
    "        \n",
    "        x = x.view(batch_size, -1, self.hid_dim)\n",
    "        #x = [batch_size, query len, hid dim]\n",
    "        \n",
    "        x = self.fc_o(x)\n",
    "        #x = [batch_size, query len, hid dim]\n",
    "        \n",
    "        return x, attention"
   ]
  },
  {
   "cell_type": "markdown",
   "metadata": {},
   "source": [
    "## Decoder"
   ]
  },
  {
   "cell_type": "markdown",
   "metadata": {},
   "source": [
    "### Decoder layer"
   ]
  },
  {
   "cell_type": "code",
   "execution_count": 23,
   "metadata": {},
   "outputs": [],
   "source": [
    "class DecoderLayer(nn.Module):\n",
    "    def __init__(self, hid_dim, n_heads, pf_dim, dropout, device, mech):\n",
    "        super().__init__()\n",
    "        self.self_attn_layer_norm = nn.LayerNorm(hid_dim)\n",
    "        self.enc_attn_layer_norm  = nn.LayerNorm(hid_dim)\n",
    "        self.ff_layer_norm        = nn.LayerNorm(hid_dim)\n",
    "        self.self_attention       = MultiHeadAttentionLayer(hid_dim, n_heads, dropout, device, mech)\n",
    "        self.encoder_attention    = MultiHeadAttentionLayer(hid_dim, n_heads, dropout, device, mech)\n",
    "        self.feedforward          = PositionwiseFeedforwardLayer(hid_dim, pf_dim, dropout)\n",
    "        self.dropout              = nn.Dropout(dropout)\n",
    "        \n",
    "    def forward(self, trg, enc_src, trg_mask, src_mask):\n",
    "        \n",
    "        #trg = [batch size, trg len, hid dim]\n",
    "        #enc_src = [batch size, src len, hid dim]\n",
    "        #trg_mask = [batch size, 1, trg len, trg len]\n",
    "        #src_mask = [batch size, 1, 1, src len]\n",
    "        \n",
    "        _trg, _ = self.self_attention(trg, trg, trg, trg_mask)\n",
    "        trg     = self.self_attn_layer_norm(trg + self.dropout(_trg))\n",
    "        #trg = [batch_size, trg len, hid dim]\n",
    "        \n",
    "        _trg, attention = self.encoder_attention(trg, enc_src, enc_src, src_mask)\n",
    "        trg             = self.enc_attn_layer_norm(trg + self.dropout(_trg))\n",
    "        #trg = [batch_size, trg len, hid dim]\n",
    "        #attention = [batch_size, n heads, trg len, src len]\n",
    "        \n",
    "        _trg = self.feedforward(trg)\n",
    "        trg  = self.ff_layer_norm(trg + self.dropout(_trg))\n",
    "        #trg = [batch_size, trg len, hid dim]\n",
    "        \n",
    "        return trg, attention"
   ]
  },
  {
   "cell_type": "markdown",
   "metadata": {},
   "source": [
    "### Decoder"
   ]
  },
  {
   "cell_type": "code",
   "execution_count": 24,
   "metadata": {},
   "outputs": [],
   "source": [
    "class Decoder(nn.Module):\n",
    "    def __init__(self, output_dim, hid_dim, n_layers, n_heads, \n",
    "                 pf_dim, dropout, device, mech, max_length = 1000):\n",
    "        super().__init__()\n",
    "        self.device = device\n",
    "        self.mech = mech\n",
    "        self.tok_embedding = nn.Embedding(output_dim, hid_dim)\n",
    "        self.pos_embedding = nn.Embedding(max_length, hid_dim)\n",
    "        self.layers        = nn.ModuleList([DecoderLayer(hid_dim, n_heads, pf_dim, dropout, device, mech)\n",
    "                                            for _ in range(n_layers)])\n",
    "        self.fc_out        = nn.Linear(hid_dim, output_dim)\n",
    "        self.dropout       = nn.Dropout(dropout)\n",
    "        self.scale         = torch.sqrt(torch.FloatTensor([hid_dim])).to(device)\n",
    "        \n",
    "    def forward(self, trg, enc_src, trg_mask, src_mask):\n",
    "        \n",
    "        #trg = [batch size, trg len]\n",
    "        #enc_src = [batch size, src len, hid dim]\n",
    "        #trg_mask = [batch size, 1, trg len, trg len]\n",
    "        #src_mask = [batch size, 1, 1, src len]\n",
    "        \n",
    "        batch_size = trg.shape[0]\n",
    "        trg_len    = trg.shape[1]\n",
    "        \n",
    "        \n",
    "        pos = torch.arange(0, trg_len).unsqueeze(0).repeat(batch_size, 1).to(self.device)\n",
    "        #pos: [batch_size, trg len]\n",
    "        \n",
    "        # print(trg.shape, self.scale, self.tok_embedding, self.pos_embedding)\n",
    "        trg = self.dropout((self.tok_embedding(trg) * self.scale) + self.pos_embedding(pos))\n",
    "        #trg: [batch_size, trg len, hid dim]\n",
    "        \n",
    "        for layer in self.layers:\n",
    "            trg, attention = layer(trg, enc_src, trg_mask, src_mask)\n",
    "            \n",
    "        #trg: [batch_size, trg len, hid dim]\n",
    "        #attention: [batch_size, n heads, trg len, src len]\n",
    "        \n",
    "        output = self.fc_out(trg)\n",
    "        #output = [batch_size, trg len, output_dim]\n",
    "        # print(attention.shape)\n",
    "        return output, attention"
   ]
  },
  {
   "cell_type": "markdown",
   "metadata": {},
   "source": [
    "### Positional Feedforward layer"
   ]
  },
  {
   "cell_type": "code",
   "execution_count": 25,
   "metadata": {},
   "outputs": [],
   "source": [
    "class PositionwiseFeedforwardLayer(nn.Module):\n",
    "    def __init__(self, hid_dim, pf_dim, dropout):\n",
    "        super().__init__()\n",
    "        self.fc1 = nn.Linear(hid_dim, pf_dim)\n",
    "        self.fc2 = nn.Linear(pf_dim, hid_dim)\n",
    "        self.dropout = nn.Dropout(dropout)\n",
    "        \n",
    "    def forward(self, x):\n",
    "        #x = [batch size, src len, hid dim]\n",
    "        x = self.dropout(torch.relu(self.fc1(x)))\n",
    "        x = self.fc2(x)\n",
    "        \n",
    "        return x"
   ]
  },
  {
   "cell_type": "markdown",
   "metadata": {},
   "source": [
    "## Seq2Seq"
   ]
  },
  {
   "cell_type": "code",
   "execution_count": 26,
   "metadata": {},
   "outputs": [],
   "source": [
    "class Seq2SeqTransformer(nn.Module):\n",
    "    def __init__(self, encoder, decoder, src_pad_idx, trg_pad_idx, device):\n",
    "        super().__init__()\n",
    "        \n",
    "        self.encoder = encoder\n",
    "        self.decoder = decoder\n",
    "        self.src_pad_idx = src_pad_idx\n",
    "        self.trg_pad_idx = trg_pad_idx\n",
    "        self.device = device\n",
    "        \n",
    "    def make_src_mask(self, src):\n",
    "        \n",
    "        #src = [batch size, src len]\n",
    "        \n",
    "        src_mask = (src != self.src_pad_idx).unsqueeze(1).unsqueeze(2)\n",
    "        #src_mask = [batch size, 1, 1, src len]\n",
    "\n",
    "        return src_mask\n",
    "    \n",
    "    def make_trg_mask(self, trg):\n",
    "        \n",
    "        #trg = [batch size, trg len]\n",
    "        \n",
    "        trg_pad_mask = (trg != self.trg_pad_idx).unsqueeze(1).unsqueeze(2)\n",
    "        #trg_pad_mask = [batch size, 1, 1, trg len]\n",
    "        \n",
    "        trg_len = trg.shape[1]\n",
    "        \n",
    "        trg_sub_mask = torch.tril(torch.ones((trg_len, trg_len), device = self.device)).bool()\n",
    "        #trg_sub_mask = [trg len, trg len]\n",
    "            \n",
    "        trg_mask = trg_pad_mask & trg_sub_mask\n",
    "        #trg_mask = [batch size, 1, trg len, trg len]\n",
    "        \n",
    "        return trg_mask\n",
    "\n",
    "    def forward(self, src, trg):\n",
    "        \n",
    "        #src = [batch size, src len]\n",
    "        #trg = [batch size, trg len]\n",
    "                \n",
    "        src_mask = self.make_src_mask(src)\n",
    "        trg_mask = self.make_trg_mask(trg)\n",
    "        \n",
    "        #src_mask = [batch size, 1, 1, src len]\n",
    "        #trg_mask = [batch size, 1, trg len, trg len]\n",
    "        \n",
    "        enc_src = self.encoder(src, src_mask)\n",
    "        #enc_src = [batch size, src len, hid dim]\n",
    "                \n",
    "        output, attention = self.decoder(trg, enc_src, trg_mask, src_mask)\n",
    "        \n",
    "        #output = [batch size, trg len, output dim]\n",
    "        #attention = [batch size, n heads, trg len, src len]\n",
    "        return output, attention"
   ]
  },
  {
   "cell_type": "markdown",
   "metadata": {},
   "source": [
    "# 4. Training"
   ]
  },
  {
   "cell_type": "markdown",
   "metadata": {},
   "source": [
    "### Initialize functions"
   ]
  },
  {
   "cell_type": "code",
   "execution_count": 27,
   "metadata": {},
   "outputs": [],
   "source": [
    "def initialize_weights(m):\n",
    "    if hasattr(m, 'weight') and m.weight.dim() > 1:\n",
    "        nn.init.xavier_uniform_(m.weight.data)"
   ]
  },
  {
   "cell_type": "code",
   "execution_count": 28,
   "metadata": {},
   "outputs": [],
   "source": [
    "def initialize_model(attention_mech):\n",
    "    INPUT_DIM = len(vocab_transform[SRC_LANGUAGE])\n",
    "    OUTPUT_DIM = len(vocab_transform[TRG_LANGUAGE])\n",
    "    HID_DIM = 256\n",
    "    ENC_LAYERS = 3\n",
    "    DEC_LAYERS = 3\n",
    "    ENC_HEADS = 8\n",
    "    DEC_HEADS = 8\n",
    "    ENC_PF_DIM = 512\n",
    "    DEC_PF_DIM = 512\n",
    "    ENC_DROPOUT = 0.1\n",
    "    DEC_DROPOUT = 0.1\n",
    "\n",
    "    enc = Encoder(INPUT_DIM, \n",
    "                HID_DIM, \n",
    "                ENC_LAYERS, \n",
    "                ENC_HEADS, \n",
    "                ENC_PF_DIM, \n",
    "                ENC_DROPOUT, \n",
    "                device,\n",
    "                attention_mech)\n",
    "\n",
    "    dec = Decoder(OUTPUT_DIM, \n",
    "                HID_DIM, \n",
    "                DEC_LAYERS, \n",
    "                DEC_HEADS, \n",
    "                DEC_PF_DIM, \n",
    "                DEC_DROPOUT, \n",
    "                device,\n",
    "                attention_mech)\n",
    "\n",
    "    SRC_PAD_IDX = PAD_IDX\n",
    "    TRG_PAD_IDX = PAD_IDX\n",
    "\n",
    "    model = Seq2SeqTransformer(enc, dec, SRC_PAD_IDX, TRG_PAD_IDX, device).to(device)\n",
    "    model.apply(initialize_weights)\n",
    "\n",
    "    return model"
   ]
  },
  {
   "cell_type": "code",
   "execution_count": 29,
   "metadata": {},
   "outputs": [],
   "source": [
    "#we can print the complexity by the number of parameters\n",
    "def count_parameters(model):\n",
    "    params = [p.numel() for p in model.parameters() if p.requires_grad]\n",
    "    # for item in params:\n",
    "        # print(f'{item:>6}')\n",
    "    print(f'______\\n{sum(params):>6}')"
   ]
  },
  {
   "cell_type": "markdown",
   "metadata": {},
   "source": [
    "## General Attention model"
   ]
  },
  {
   "cell_type": "code",
   "execution_count": 30,
   "metadata": {},
   "outputs": [],
   "source": [
    "genmodel = initialize_model('gen')"
   ]
  },
  {
   "cell_type": "code",
   "execution_count": 31,
   "metadata": {},
   "outputs": [
    {
     "name": "stdout",
     "output_type": "stream",
     "text": [
      "______\n",
      "4993491\n"
     ]
    }
   ],
   "source": [
    "count_parameters(genmodel)"
   ]
  },
  {
   "cell_type": "markdown",
   "metadata": {},
   "source": [
    "## Multiplicative Attention model"
   ]
  },
  {
   "cell_type": "code",
   "execution_count": 32,
   "metadata": {},
   "outputs": [],
   "source": [
    "mulmodel = initialize_model('mul')"
   ]
  },
  {
   "cell_type": "code",
   "execution_count": 33,
   "metadata": {},
   "outputs": [
    {
     "name": "stdout",
     "output_type": "stream",
     "text": [
      "______\n",
      "4993491\n"
     ]
    }
   ],
   "source": [
    "#we can print the complexity by the number of parameters   \n",
    "count_parameters(mulmodel)"
   ]
  },
  {
   "cell_type": "markdown",
   "metadata": {},
   "source": [
    "## Additive Attention model"
   ]
  },
  {
   "cell_type": "code",
   "execution_count": 55,
   "metadata": {},
   "outputs": [],
   "source": [
    "addmodel = initialize_model('add')"
   ]
  },
  {
   "cell_type": "code",
   "execution_count": 35,
   "metadata": {},
   "outputs": [
    {
     "name": "stdout",
     "output_type": "stream",
     "text": [
      "______\n",
      "4993491\n"
     ]
    }
   ],
   "source": [
    "#we can print the complexity by the number of parameters   \n",
    "count_parameters(addmodel)"
   ]
  },
  {
   "cell_type": "markdown",
   "metadata": {},
   "source": [
    "## Optimizer and learning rate"
   ]
  },
  {
   "cell_type": "code",
   "execution_count": 36,
   "metadata": {},
   "outputs": [],
   "source": [
    "import torch.optim as optim\n",
    "\n",
    "lr = 0.001\n",
    "\n",
    "#training hyperparameters\n",
    "optimizer_gen = optim.Adam(genmodel.parameters(), lr=lr)\n",
    "criterion_gen = nn.CrossEntropyLoss(ignore_index = PAD_IDX) #combine softmax with cross entropy\n",
    "\n",
    "optimizer_mul = optim.Adam(mulmodel.parameters(), lr=lr)\n",
    "criterion_mul = nn.CrossEntropyLoss(ignore_index = PAD_IDX)\n",
    "\n",
    "optimizer_add = optim.Adam(addmodel.parameters(), lr=lr)\n",
    "criterion_add = nn.CrossEntropyLoss(ignore_index = PAD_IDX)"
   ]
  },
  {
   "cell_type": "markdown",
   "metadata": {},
   "source": [
    "## Train/ Evaluate functions"
   ]
  },
  {
   "cell_type": "code",
   "execution_count": 37,
   "metadata": {},
   "outputs": [],
   "source": [
    "def train(model, loader, optimizer, criterion, clip, loader_length):\n",
    "    \n",
    "    model.train()\n",
    "    \n",
    "    epoch_loss = 0\n",
    "    \n",
    "    for src, src_len, trg in loader:\n",
    "        \n",
    "        src = src.to(device)\n",
    "        trg = trg.to(device)\n",
    "        # print(src.shape, trg.shape)\n",
    "\n",
    "        optimizer.zero_grad()\n",
    "        \n",
    "        #trg[:, :-1] remove the eos, e.g., \"<sos> I love sushi\" since teaching forcing, the input does not need to have eos\n",
    "        output, _ = model(src, trg[:,:-1])\n",
    "                \n",
    "        #output = [batch size, trg len - 1, output dim]\n",
    "        #trg    = [batch size, trg len]\n",
    "            \n",
    "        output_dim = output.shape[-1]\n",
    "            \n",
    "        output = output.reshape(-1, output_dim)\n",
    "        trg = trg[:,1:].reshape(-1) #trg[:, 1:] remove the sos, e.g., \"i love sushi <eos>\" since in teaching forcing, the output does not have sos\n",
    "                \n",
    "        #output = [batch size * trg len - 1, output dim]\n",
    "        #trg    = [batch size * trg len - 1]\n",
    "            \n",
    "        loss = criterion(output, trg)\n",
    "        \n",
    "        loss.backward()\n",
    "        \n",
    "        torch.nn.utils.clip_grad_norm_(model.parameters(), clip)\n",
    "        \n",
    "        optimizer.step()\n",
    "        \n",
    "        epoch_loss += loss.item()\n",
    "        \n",
    "    return epoch_loss / loader_length"
   ]
  },
  {
   "cell_type": "code",
   "execution_count": 38,
   "metadata": {},
   "outputs": [],
   "source": [
    "def evaluate(model, loader, criterion, loader_length):\n",
    "    \n",
    "    model.eval()\n",
    "    \n",
    "    epoch_loss = 0\n",
    "    \n",
    "    with torch.no_grad():\n",
    "    \n",
    "        for src, src_len, trg in loader:\n",
    "        \n",
    "            src = src.to(device)\n",
    "            trg = trg.to(device)\n",
    "\n",
    "            output, _ = model(src, trg[:,:-1])\n",
    "            \n",
    "            #output = [batch size, trg len - 1, output dim]\n",
    "            #trg = [batch size, trg len]\n",
    "            \n",
    "            output_dim = output.shape[-1]\n",
    "            \n",
    "            output = output.contiguous().view(-1, output_dim)\n",
    "            trg = trg[:,1:].contiguous().view(-1)\n",
    "            \n",
    "            #output = [batch size * trg len - 1, output dim]\n",
    "            #trg = [batch size * trg len - 1]\n",
    "            \n",
    "            loss = criterion(output, trg)\n",
    "\n",
    "            epoch_loss += loss.item()\n",
    "        \n",
    "    return epoch_loss / loader_length"
   ]
  },
  {
   "cell_type": "code",
   "execution_count": 39,
   "metadata": {},
   "outputs": [],
   "source": [
    "train_loader_length = len(train_loader)\n",
    "val_loader_length = len(valid_loader)\n",
    "test_loader_length = len(test_loader)"
   ]
  },
  {
   "cell_type": "code",
   "execution_count": 40,
   "metadata": {},
   "outputs": [],
   "source": [
    "def epoch_time(start_time, end_time):\n",
    "    elapsed_time = end_time - start_time\n",
    "    elapsed_mins = int(elapsed_time / 60)\n",
    "    elapsed_secs = int(elapsed_time - (elapsed_mins * 60))\n",
    "    return elapsed_mins, elapsed_secs"
   ]
  },
  {
   "cell_type": "code",
   "execution_count": 78,
   "metadata": {},
   "outputs": [],
   "source": [
    "def train_loop(model, optimizer, criterion):\n",
    "    best_valid_loss = float('inf')\n",
    "    best_train_loss = 0\n",
    "    num_epochs = 10\n",
    "    clip       = 1\n",
    "\n",
    "    save_path = f'./app/models/{model.decoder.mech}model.pt'\n",
    "\n",
    "    train_losses = []\n",
    "    valid_losses = []\n",
    "    total_start = time.time()\n",
    "\n",
    "    for epoch in range(num_epochs):\n",
    "        \n",
    "        start_time = time.time()\n",
    "\n",
    "        train_loss = train(model, train_loader, optimizer, criterion, clip, train_loader_length)\n",
    "        valid_loss = evaluate(model, valid_loader, criterion, val_loader_length)\n",
    "        \n",
    "        #for plotting\n",
    "        train_losses.append(train_loss)\n",
    "        valid_losses.append(valid_loss)\n",
    "        \n",
    "        end_time = time.time()\n",
    "        \n",
    "        epoch_mins, epoch_secs = epoch_time(start_time, end_time)\n",
    "\n",
    "        \n",
    "        if valid_loss < best_valid_loss:\n",
    "            best_valid_loss = valid_loss\n",
    "            best_train_loss = train_loss\n",
    "            torch.save(model.state_dict(), save_path)\n",
    "    \n",
    "        print(f'Epoch: {epoch+1:02} | Time: {epoch_mins}m {epoch_secs}s')\n",
    "        print(f'\\tTrain Loss: {train_loss:.3f} | Train PPL: {math.exp(train_loss):7.3f}')\n",
    "        print(f'\\t Val. Loss: {valid_loss:.3f} |  Val. PPL: {math.exp(valid_loss):7.3f}')\n",
    "        \n",
    "        #lower perplexity is better\n",
    "    # return losses for ploting/ evaluation\n",
    "    total_end = time.time()\n",
    "    total_min, total_sec = epoch_time(total_start, total_end)\n",
    "    print(f'Training Time: {total_min}m {total_sec}s')\n",
    "    return train_losses, valid_losses, best_valid_loss, best_train_loss"
   ]
  },
  {
   "cell_type": "code",
   "execution_count": 79,
   "metadata": {},
   "outputs": [],
   "source": [
    "def test_loop(model):\n",
    "    save_path = f'./app/models/{model.decoder.mech}model.pt' # genmodel/mulmodel/addmodel\n",
    "    model.load_state_dict(torch.load(save_path))\n",
    "    test_loss = evaluate(model, test_loader, criterion_gen, test_loader_length)\n",
    "\n",
    "    print(f'| Test Loss: {test_loss:.3f} | Test PPL: {math.exp(test_loss):7.3f} |')"
   ]
  },
  {
   "cell_type": "markdown",
   "metadata": {},
   "source": [
    "### Result function"
   ]
  },
  {
   "cell_type": "code",
   "execution_count": 80,
   "metadata": {},
   "outputs": [],
   "source": [
    "def result_print(train_loss, valid_loss):\n",
    "    print(f'Training loss : {train_loss:.3f} | perplexity : {math.exp(train_loss):7.3f}\\nValidation loss : {valid_loss:.3f} | perplexity : {math.exp(valid_loss):7.3f}')"
   ]
  },
  {
   "cell_type": "markdown",
   "metadata": {},
   "source": [
    "### Plot function"
   ]
  },
  {
   "cell_type": "code",
   "execution_count": 81,
   "metadata": {},
   "outputs": [],
   "source": [
    "import matplotlib.pyplot as plt\n",
    "def plot_loss(train_losses, valid_losses):\n",
    "    fig = plt.figure(figsize=(5, 3))\n",
    "    ax = fig.add_subplot(1, 1, 1)\n",
    "    ax.plot(train_losses, label = 'train loss')\n",
    "    ax.plot(valid_losses, label = 'valid loss')\n",
    "    plt.legend()\n",
    "    ax.set_xlabel('updates')\n",
    "    ax.set_ylabel('loss')"
   ]
  },
  {
   "cell_type": "markdown",
   "metadata": {},
   "source": [
    "## General train"
   ]
  },
  {
   "cell_type": "code",
   "execution_count": 82,
   "metadata": {},
   "outputs": [
    {
     "name": "stdout",
     "output_type": "stream",
     "text": [
      "Epoch: 01 | Time: 0m 18s\n",
      "\tTrain Loss: 0.839 | Train PPL:   2.315\n",
      "\t Val. Loss: 3.382 |  Val. PPL:  29.438\n",
      "Epoch: 02 | Time: 0m 18s\n",
      "\tTrain Loss: 0.787 | Train PPL:   2.196\n",
      "\t Val. Loss: 3.316 |  Val. PPL:  27.559\n",
      "Epoch: 03 | Time: 0m 17s\n",
      "\tTrain Loss: 0.740 | Train PPL:   2.096\n",
      "\t Val. Loss: 3.392 |  Val. PPL:  29.712\n",
      "Epoch: 04 | Time: 0m 17s\n",
      "\tTrain Loss: 0.708 | Train PPL:   2.031\n",
      "\t Val. Loss: 3.493 |  Val. PPL:  32.888\n",
      "Epoch: 05 | Time: 0m 17s\n",
      "\tTrain Loss: 0.645 | Train PPL:   1.905\n",
      "\t Val. Loss: 3.640 |  Val. PPL:  38.098\n",
      "Epoch: 06 | Time: 0m 17s\n",
      "\tTrain Loss: 0.625 | Train PPL:   1.869\n",
      "\t Val. Loss: 3.508 |  Val. PPL:  33.394\n",
      "Epoch: 07 | Time: 0m 17s\n",
      "\tTrain Loss: 0.597 | Train PPL:   1.817\n",
      "\t Val. Loss: 3.662 |  Val. PPL:  38.945\n",
      "Epoch: 08 | Time: 0m 17s\n",
      "\tTrain Loss: 0.566 | Train PPL:   1.762\n",
      "\t Val. Loss: 3.720 |  Val. PPL:  41.259\n",
      "Epoch: 09 | Time: 0m 17s\n",
      "\tTrain Loss: 0.534 | Train PPL:   1.705\n",
      "\t Val. Loss: 3.703 |  Val. PPL:  40.575\n",
      "Epoch: 10 | Time: 0m 17s\n",
      "\tTrain Loss: 0.535 | Train PPL:   1.707\n",
      "\t Val. Loss: 3.777 |  Val. PPL:  43.680\n",
      "Training Time: 2m 57s\n"
     ]
    }
   ],
   "source": [
    "train_losses, valid_losses, gen_val_loss, gen_train_loss = train_loop(genmodel, optimizer_gen, criterion_gen)"
   ]
  },
  {
   "cell_type": "code",
   "execution_count": 83,
   "metadata": {},
   "outputs": [
    {
     "data": {
      "image/png": "[encoded data removed]",
      "text/plain": [
       "<Figure size 500x300 with 1 Axes>"
      ]
     },
     "metadata": {},
     "output_type": "display_data"
    }
   ],
   "source": [
    "plot_loss(train_losses, valid_losses)"
   ]
  },
  {
   "cell_type": "code",
   "execution_count": 84,
   "metadata": {},
   "outputs": [
    {
     "name": "stdout",
     "output_type": "stream",
     "text": [
      "Training loss : 0.787 | perplexity :   2.196\n",
      "Validation loss : 3.316 | perplexity :  27.559\n"
     ]
    }
   ],
   "source": [
    "result_print(gen_train_loss, gen_val_loss)"
   ]
  },
  {
   "cell_type": "code",
   "execution_count": 85,
   "metadata": {},
   "outputs": [
    {
     "name": "stdout",
     "output_type": "stream",
     "text": [
      "| Test Loss: 3.677 | Test PPL:  39.532 |\n"
     ]
    }
   ],
   "source": [
    "test_loop(genmodel)"
   ]
  },
  {
   "cell_type": "markdown",
   "metadata": {},
   "source": [
    "## Multiplicative train"
   ]
  },
  {
   "cell_type": "code",
   "execution_count": 86,
   "metadata": {},
   "outputs": [
    {
     "name": "stdout",
     "output_type": "stream",
     "text": [
      "Epoch: 01 | Time: 0m 18s\n",
      "\tTrain Loss: 3.623 | Train PPL:  37.459\n",
      "\t Val. Loss: 3.510 |  Val. PPL:  33.461\n",
      "Epoch: 02 | Time: 0m 17s\n",
      "\tTrain Loss: 3.319 | Train PPL:  27.625\n",
      "\t Val. Loss: 3.308 |  Val. PPL:  27.344\n",
      "Epoch: 03 | Time: 0m 17s\n",
      "\tTrain Loss: 3.065 | Train PPL:  21.430\n",
      "\t Val. Loss: 3.178 |  Val. PPL:  24.009\n",
      "Epoch: 04 | Time: 0m 17s\n",
      "\tTrain Loss: 2.842 | Train PPL:  17.143\n",
      "\t Val. Loss: 3.069 |  Val. PPL:  21.514\n",
      "Epoch: 05 | Time: 0m 17s\n",
      "\tTrain Loss: 2.629 | Train PPL:  13.858\n",
      "\t Val. Loss: 3.016 |  Val. PPL:  20.416\n",
      "Epoch: 06 | Time: 0m 17s\n",
      "\tTrain Loss: 2.405 | Train PPL:  11.079\n",
      "\t Val. Loss: 2.988 |  Val. PPL:  19.847\n",
      "Epoch: 07 | Time: 0m 17s\n",
      "\tTrain Loss: 2.230 | Train PPL:   9.299\n",
      "\t Val. Loss: 2.895 |  Val. PPL:  18.079\n",
      "Epoch: 08 | Time: 0m 17s\n",
      "\tTrain Loss: 2.050 | Train PPL:   7.766\n",
      "\t Val. Loss: 2.924 |  Val. PPL:  18.619\n",
      "Epoch: 09 | Time: 0m 18s\n",
      "\tTrain Loss: 1.888 | Train PPL:   6.606\n",
      "\t Val. Loss: 2.937 |  Val. PPL:  18.852\n",
      "Epoch: 10 | Time: 0m 18s\n",
      "\tTrain Loss: 1.766 | Train PPL:   5.846\n",
      "\t Val. Loss: 2.897 |  Val. PPL:  18.123\n",
      "Training Time: 2m 59s\n"
     ]
    }
   ],
   "source": [
    "train_losses, valid_losses, mul_train_loss, mul_val_loss = train_loop(mulmodel, optimizer_mul, criterion_mul)"
   ]
  },
  {
   "cell_type": "code",
   "execution_count": 87,
   "metadata": {},
   "outputs": [
    {
     "data": {
      "image/png": "[encoded data removed]",
      "text/plain": [
       "<Figure size 500x300 with 1 Axes>"
      ]
     },
     "metadata": {},
     "output_type": "display_data"
    }
   ],
   "source": [
    "plot_loss(train_losses, valid_losses)"
   ]
  },
  {
   "cell_type": "code",
   "execution_count": 88,
   "metadata": {},
   "outputs": [
    {
     "name": "stdout",
     "output_type": "stream",
     "text": [
      "| Test Loss: 3.074 | Test PPL:  21.624 |\n"
     ]
    }
   ],
   "source": [
    "test_loop(mulmodel)"
   ]
  },
  {
   "cell_type": "code",
   "execution_count": 89,
   "metadata": {},
   "outputs": [
    {
     "name": "stdout",
     "output_type": "stream",
     "text": [
      "Training loss : 2.895 | perplexity :  18.079\n",
      "Validation loss : 2.230 | perplexity :   9.299\n"
     ]
    }
   ],
   "source": [
    "result_print(mul_train_loss, mul_val_loss)"
   ]
  },
  {
   "cell_type": "markdown",
   "metadata": {},
   "source": [
    "## Additive train"
   ]
  },
  {
   "cell_type": "code",
   "execution_count": 90,
   "metadata": {},
   "outputs": [
    {
     "name": "stdout",
     "output_type": "stream",
     "text": [
      "Epoch: 01 | Time: 0m 17s\n",
      "\tTrain Loss: 4.569 | Train PPL:  96.425\n",
      "\t Val. Loss: 3.946 |  Val. PPL:  51.752\n",
      "Epoch: 02 | Time: 0m 17s\n",
      "\tTrain Loss: 3.678 | Train PPL:  39.551\n",
      "\t Val. Loss: 3.414 |  Val. PPL:  30.375\n",
      "Epoch: 03 | Time: 0m 18s\n",
      "\tTrain Loss: 3.114 | Train PPL:  22.510\n",
      "\t Val. Loss: 3.044 |  Val. PPL:  20.987\n",
      "Epoch: 04 | Time: 0m 18s\n",
      "\tTrain Loss: 2.728 | Train PPL:  15.309\n",
      "\t Val. Loss: 2.932 |  Val. PPL:  18.771\n",
      "Epoch: 05 | Time: 0m 18s\n",
      "\tTrain Loss: 2.420 | Train PPL:  11.251\n",
      "\t Val. Loss: 2.944 |  Val. PPL:  18.999\n",
      "Epoch: 06 | Time: 0m 19s\n",
      "\tTrain Loss: 2.178 | Train PPL:   8.830\n",
      "\t Val. Loss: 2.871 |  Val. PPL:  17.646\n",
      "Epoch: 07 | Time: 0m 19s\n",
      "\tTrain Loss: 1.958 | Train PPL:   7.084\n",
      "\t Val. Loss: 2.846 |  Val. PPL:  17.213\n",
      "Epoch: 08 | Time: 0m 17s\n",
      "\tTrain Loss: 1.739 | Train PPL:   5.693\n",
      "\t Val. Loss: 2.821 |  Val. PPL:  16.797\n",
      "Epoch: 09 | Time: 0m 16s\n",
      "\tTrain Loss: 1.573 | Train PPL:   4.819\n",
      "\t Val. Loss: 2.859 |  Val. PPL:  17.446\n",
      "Epoch: 10 | Time: 0m 17s\n",
      "\tTrain Loss: 1.424 | Train PPL:   4.153\n",
      "\t Val. Loss: 2.913 |  Val. PPL:  18.413\n",
      "Training Time: 3m 2s\n"
     ]
    }
   ],
   "source": [
    "train_losses, valid_losses, add_train_loss, add_val_loss = train_loop(addmodel, optimizer_add, criterion_add)"
   ]
  },
  {
   "cell_type": "code",
   "execution_count": 91,
   "metadata": {},
   "outputs": [
    {
     "data": {
      "image/png": "[encoded data removed]",
      "text/plain": [
       "<Figure size 500x300 with 1 Axes>"
      ]
     },
     "metadata": {},
     "output_type": "display_data"
    }
   ],
   "source": [
    "plot_loss(train_losses, valid_losses)"
   ]
  },
  {
   "cell_type": "code",
   "execution_count": 92,
   "metadata": {},
   "outputs": [
    {
     "name": "stdout",
     "output_type": "stream",
     "text": [
      "| Test Loss: 2.993 | Test PPL:  19.943 |\n"
     ]
    }
   ],
   "source": [
    "test_loop(addmodel)"
   ]
  },
  {
   "cell_type": "code",
   "execution_count": 93,
   "metadata": {},
   "outputs": [
    {
     "name": "stdout",
     "output_type": "stream",
     "text": [
      "Training loss : 2.821 | perplexity :  16.797\n",
      "Validation loss : 1.739 | perplexity :   5.693\n"
     ]
    }
   ],
   "source": [
    "result_print(add_train_loss, add_val_loss)"
   ]
  },
  {
   "cell_type": "markdown",
   "metadata": {},
   "source": [
    "# 5. Inference"
   ]
  },
  {
   "cell_type": "markdown",
   "metadata": {},
   "source": [
    "## Generator function"
   ]
  },
  {
   "cell_type": "code",
   "execution_count": 41,
   "metadata": {},
   "outputs": [],
   "source": [
    "mapping = {}\n",
    "mapping[SRC_LANGUAGE] = vocab_transform[SRC_LANGUAGE].get_itos()\n",
    "mapping[TRG_LANGUAGE] = vocab_transform[TRG_LANGUAGE].get_itos()"
   ]
  },
  {
   "cell_type": "code",
   "execution_count": 42,
   "metadata": {},
   "outputs": [],
   "source": [
    "def greedy_decode(model, src, max_len=50, device=device):\n",
    "    src = text_transform[SRC_LANGUAGE](src).to(device).unsqueeze(0) # token >> vocab >> tensor\n",
    "    model.eval()\n",
    "    \n",
    "    trg_indexes = [SOS_IDX]\n",
    "    \n",
    "    for i in range(max_len):\n",
    "        trg_tensor = torch.LongTensor(trg_indexes).unsqueeze(0).to(device)\n",
    "        \n",
    "        with torch.no_grad():\n",
    "            output, attentions = model(src, trg_tensor)\n",
    "        \n",
    "        pred_token = output.argmax(2)[:, -1].item()\n",
    "        trg_indexes.append(pred_token)\n",
    "        \n",
    "        if pred_token == EOS_IDX:\n",
    "            break\n",
    "    \n",
    "    # print(trg_indexes)\n",
    "    trg_tokens = [mapping[TRG_LANGUAGE][i] for i in trg_indexes]\n",
    "    return trg_tokens[1:], attentions  # Exclude the <sos> token\n"
   ]
  },
  {
   "cell_type": "markdown",
   "metadata": {},
   "source": [
    "## General inference"
   ]
  },
  {
   "cell_type": "code",
   "execution_count": 43,
   "metadata": {},
   "outputs": [
    {
     "data": {
      "text/plain": [
       "<All keys matched successfully>"
      ]
     },
     "execution_count": 43,
     "metadata": {},
     "output_type": "execute_result"
    }
   ],
   "source": [
    "save_path = f'./app/models/genmodel.pt'\n",
    "genmodel.load_state_dict(torch.load(save_path))"
   ]
  },
  {
   "cell_type": "code",
   "execution_count": 44,
   "metadata": {},
   "outputs": [
    {
     "name": "stdout",
     "output_type": "stream",
     "text": [
      "Predicted Sentence: ကျွန်တော် ကော်ဖီ သောက် တယ် ။ <eos>\n"
     ]
    }
   ],
   "source": [
    "# Example usage\n",
    "gen_src_sentence = \"I go eat rice\"\n",
    "\n",
    "gen_output_sentence, gen_attentions = greedy_decode(genmodel, gen_src_sentence, max_len=50, device=device)\n",
    "print(\"Predicted Sentence:\", ' '.join(gen_output_sentence))"
   ]
  },
  {
   "cell_type": "code",
   "execution_count": 45,
   "metadata": {},
   "outputs": [
    {
     "name": "stdout",
     "output_type": "stream",
     "text": [
      "Predicted Sentence: ကျွန်တော် ကော်ဖီ သောက် တယ် ။ <eos>\n"
     ]
    }
   ],
   "source": [
    "# Example usage\n",
    "gen_src_sentence = \"I go eat rice\"\n",
    "\n",
    "gen_output_sentence, gen_attentions = greedy_decode(genmodel, gen_src_sentence, max_len=50, device=device)\n",
    "print(\"Predicted Sentence:\", ' '.join(gen_output_sentence))"
   ]
  },
  {
   "cell_type": "markdown",
   "metadata": {},
   "source": [
    "## Multiplicative inference"
   ]
  },
  {
   "cell_type": "code",
   "execution_count": 46,
   "metadata": {},
   "outputs": [
    {
     "data": {
      "text/plain": [
       "<All keys matched successfully>"
      ]
     },
     "execution_count": 46,
     "metadata": {},
     "output_type": "execute_result"
    }
   ],
   "source": [
    "save_path = f'./app/models/mulmodel.pt'\n",
    "mulmodel.load_state_dict(torch.load(save_path))"
   ]
  },
  {
   "cell_type": "code",
   "execution_count": 47,
   "metadata": {},
   "outputs": [
    {
     "name": "stdout",
     "output_type": "stream",
     "text": [
      "Predicted Sentence: ကျွန်တော် မနက် တိုင်း ပေါင်မုန့် စား တယ် ။ <eos>\n"
     ]
    }
   ],
   "source": [
    "# Example usage\n",
    "mul_src_sentence = \"I go eat rice\"\n",
    "\n",
    "mul_output_sentence, mul_attentions = greedy_decode(mulmodel, mul_src_sentence, max_len=50, device=device)\n",
    "print(\"Predicted Sentence:\", ' '.join(mul_output_sentence))"
   ]
  },
  {
   "cell_type": "markdown",
   "metadata": {},
   "source": [
    "## Additive inference"
   ]
  },
  {
   "cell_type": "code",
   "execution_count": 56,
   "metadata": {},
   "outputs": [
    {
     "data": {
      "text/plain": [
       "<All keys matched successfully>"
      ]
     },
     "execution_count": 56,
     "metadata": {},
     "output_type": "execute_result"
    }
   ],
   "source": [
    "save_path = f'./app/models/addmodel.pt'\n",
    "addmodel.load_state_dict(torch.load(save_path))"
   ]
  },
  {
   "cell_type": "code",
   "execution_count": 57,
   "metadata": {},
   "outputs": [
    {
     "name": "stdout",
     "output_type": "stream",
     "text": [
      "Predicted Sentence: ကျွန်တော် မနက် တိုင်း ကြက်ဥ စား တယ် ။ <eos>\n"
     ]
    }
   ],
   "source": [
    "# Example usage\n",
    "add_src_sentence = \"I go eat rice\"\n",
    "\n",
    "add_output_sentence, add_attentions = greedy_decode(addmodel, add_src_sentence, max_len=50, device=device)\n",
    "print(\"Predicted Sentence:\", ' '.join(add_output_sentence))"
   ]
  },
  {
   "cell_type": "markdown",
   "metadata": {},
   "source": [
    "## Attention map"
   ]
  },
  {
   "cell_type": "markdown",
   "metadata": {},
   "source": [
    "## Random sample for attention map"
   ]
  },
  {
   "cell_type": "code",
   "execution_count": 103,
   "metadata": {},
   "outputs": [],
   "source": [
    "src_text = corpus['train'][0]['en']\n",
    "trg_text = corpus['train'][0]['my']"
   ]
  },
  {
   "cell_type": "code",
   "execution_count": 104,
   "metadata": {},
   "outputs": [
    {
     "data": {
      "text/plain": [
       "'မနေ့က အရက် နည်းနည်း သောက်ခဲ့တယ်။'"
      ]
     },
     "execution_count": 104,
     "metadata": {},
     "output_type": "execute_result"
    }
   ],
   "source": [
    "trg_text"
   ]
  },
  {
   "cell_type": "code",
   "execution_count": 105,
   "metadata": {},
   "outputs": [],
   "source": [
    "source = text_transform[SRC_LANGUAGE](src_text).to(device).unsqueeze(0)\n",
    "target = text_transform[TRG_LANGUAGE](trg_text).to(device).unsqueeze(0)"
   ]
  },
  {
   "cell_type": "code",
   "execution_count": 106,
   "metadata": {},
   "outputs": [],
   "source": [
    "with torch.no_grad():\n",
    "    gen_output, gen_attentions = genmodel(source, target)\n",
    "with torch.no_grad():\n",
    "    mul_output, mul_attentions = mulmodel(source, target)\n",
    "with torch.no_grad():\n",
    "    add_output, add_attentions = addmodel(source, target)"
   ]
  },
  {
   "cell_type": "code",
   "execution_count": 107,
   "metadata": {},
   "outputs": [],
   "source": [
    "def get_output(output):\n",
    "    output = output.squeeze(0)\n",
    "    output = output[1:]\n",
    "    output_max = output.argmax(1)\n",
    "    trg_tokens = ['<sos>'] + [mapping[TRG_LANGUAGE][token.item()] for token in output_max]\n",
    "    return trg_tokens"
   ]
  },
  {
   "cell_type": "code",
   "execution_count": 108,
   "metadata": {},
   "outputs": [],
   "source": [
    "src_tokens = ['<sos>'] + token_transform[SRC_LANGUAGE](src_text) + ['<eos>']"
   ]
  },
  {
   "cell_type": "markdown",
   "metadata": {},
   "source": [
    "### Attention function"
   ]
  },
  {
   "cell_type": "code",
   "execution_count": 109,
   "metadata": {},
   "outputs": [],
   "source": [
    "import warnings\n",
    "warnings.filterwarnings(\"ignore\", category=UserWarning)"
   ]
  },
  {
   "cell_type": "code",
   "execution_count": 110,
   "metadata": {},
   "outputs": [],
   "source": [
    "import matplotlib.ticker as ticker\n",
    "\n",
    "def display_attention(sentence, translation, attention):\n",
    "    \n",
    "    fig = plt.figure(figsize=(10,10))\n",
    "    ax = fig.add_subplot(111)\n",
    "    attention = attention[0, 0, :, :]\n",
    "    \n",
    "    attention = attention.squeeze(1).cpu().detach().numpy()\n",
    "    \n",
    "    cax = ax.matshow(attention, cmap='bone')\n",
    "   \n",
    "    ax.tick_params(labelsize=10)\n",
    "    \n",
    "    y_ticks =  [''] + translation\n",
    "    x_ticks =  [''] + sentence \n",
    "     \n",
    "    ax.set_xticklabels(x_ticks, rotation=45)\n",
    "    ax.set_yticklabels(y_ticks, name='Myanmar Text')\n",
    "\n",
    "    ax.xaxis.set_major_locator(ticker.MultipleLocator(1))\n",
    "    ax.yaxis.set_major_locator(ticker.MultipleLocator(1))\n",
    "\n",
    "    plt.show()\n",
    "    plt.close()"
   ]
  },
  {
   "cell_type": "code",
   "execution_count": 111,
   "metadata": {},
   "outputs": [
    {
     "data": {
      "image/png": "[encoded data removed]",
      "text/plain": [
       "<Figure size 1000x1000 with 1 Axes>"
      ]
     },
     "metadata": {},
     "output_type": "display_data"
    },
    {
     "name": "stdout",
     "output_type": "stream",
     "text": [
      "['<sos>', 'နေ့', 'က', 'အရက်', 'သောက်', 'သောက်', 'ခဲ့', 'တယ်', '။', '<eos>', 'သောက်']\n"
     ]
    }
   ],
   "source": [
    "trg_tokens = get_output(gen_output)\n",
    "display_attention(src_tokens, trg_tokens, gen_attentions)\n",
    "print(trg_tokens)"
   ]
  },
  {
   "cell_type": "code",
   "execution_count": 121,
   "metadata": {},
   "outputs": [
    {
     "data": {
      "image/png": "[encoded data removed]",
      "text/plain": [
       "<Figure size 1000x1000 with 1 Axes>"
      ]
     },
     "metadata": {},
     "output_type": "display_data"
    },
    {
     "name": "stdout",
     "output_type": "stream",
     "text": [
      "['<sos>', 'နေ့', 'က', 'သူငယ်ချင်း', 'ဝယ်', 'ဝယ်', 'ခဲ့', 'တယ်', '။', '<eos>', 'ခဲ့']\n"
     ]
    }
   ],
   "source": [
    "trg_tokens = get_output(mul_output)\n",
    "display_attention(src_tokens, trg_tokens, mul_attentions)\n",
    "print(trg_tokens)"
   ]
  },
  {
   "cell_type": "code",
   "execution_count": 113,
   "metadata": {},
   "outputs": [
    {
     "data": {
      "image/png": "[encoded data removed]",
      "text/plain": [
       "<Figure size 1000x1000 with 1 Axes>"
      ]
     },
     "metadata": {},
     "output_type": "display_data"
    },
    {
     "name": "stdout",
     "output_type": "stream",
     "text": [
      "['<sos>', 'နေ့', 'က', 'စာမေးပွဲ', 'သောက်', 'သောက်', 'တယ်', 'တယ်', '။', '<eos>', 'တဲ့']\n"
     ]
    }
   ],
   "source": [
    "trg_tokens = get_output(add_output)\n",
    "display_attention(src_tokens, trg_tokens, add_attentions)\n",
    "print(trg_tokens)"
   ]
  },
  {
   "cell_type": "markdown",
   "metadata": {},
   "source": []
  },
  {
   "cell_type": "markdown",
   "metadata": {},
   "source": [
    "## BLEU score"
   ]
  },
  {
   "cell_type": "code",
   "execution_count": 114,
   "metadata": {},
   "outputs": [
    {
     "name": "stdout",
     "output_type": "stream",
     "text": [
      "0\n"
     ]
    }
   ],
   "source": [
    "from nltk.translate.bleu_score import sentence_bleu\n",
    "\n",
    "src_text = corpus['train'][89]['en']\n",
    "trg_text = corpus['train'][89]['my']\n",
    "\n",
    "src_token = token_transform[SRC_LANGUAGE](src_text)\n",
    "trg_token = token_transform[TRG_LANGUAGE](trg_text)\n",
    "\n",
    "print(sentence_bleu([src_token], trg_token))"
   ]
  }
 ],
 "metadata": {
  "kernelspec": {
   "display_name": "Python 3",
   "language": "python",
   "name": "python3"
  },
  "language_info": {
   "codemirror_mode": {
    "name": "ipython",
    "version": 3
   },
   "file_extension": ".py",
   "mimetype": "text/x-python",
   "name": "python",
   "nbconvert_exporter": "python",
   "pygments_lexer": "ipython3",
   "version": "3.11.8"
  }
 },
 "nbformat": 4,
 "nbformat_minor": 2
}
